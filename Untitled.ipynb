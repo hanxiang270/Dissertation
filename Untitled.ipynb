{
 "cells": [
  {
   "cell_type": "markdown",
   "id": "1f7cd9e0-3af4-4dad-b51d-fa4b2825a07c",
   "metadata": {},
   "source": [
    "# **1. Data Exploration**"
   ]
  },
  {
   "cell_type": "markdown",
   "id": "ee98674e-9797-4364-b71a-fc613b1ca68f",
   "metadata": {},
   "source": [
    "## **1.1 BRES**"
   ]
  },
  {
   "cell_type": "code",
   "execution_count": 1,
   "id": "c249527e-2584-4cee-a5c6-c8e6217e22a6",
   "metadata": {},
   "outputs": [],
   "source": [
    "import pandas as pd"
   ]
  },
  {
   "cell_type": "code",
   "execution_count": 4,
   "id": "c851d42c-ac8f-4fa1-ae4f-a2d5c2f2baa0",
   "metadata": {},
   "outputs": [],
   "source": [
    "file_path_bres_v1 = 'Data/BRES/V1.csv'"
   ]
  },
  {
   "cell_type": "code",
   "execution_count": null,
   "id": "cfc377dd-6898-4056-8ab3-f4aca7ea4109",
   "metadata": {},
   "outputs": [],
   "source": [
    "bres_v1 = pd.read_csv(file_path_bres_v1, skiprows=8)"
   ]
  },
  {
   "cell_type": "code",
   "execution_count": null,
   "id": "ba8d30bc-0840-4d93-bf70-af9008316dce",
   "metadata": {},
   "outputs": [],
   "source": [
    "\n",
    "# Quick sanity check\n",
    "print(df.head())"
   ]
  }
 ],
 "metadata": {
  "kernelspec": {
   "display_name": "Python (base)",
   "language": "python",
   "name": "base"
  },
  "language_info": {
   "codemirror_mode": {
    "name": "ipython",
    "version": 3
   },
   "file_extension": ".py",
   "mimetype": "text/x-python",
   "name": "python",
   "nbconvert_exporter": "python",
   "pygments_lexer": "ipython3",
   "version": "3.11.9"
  }
 },
 "nbformat": 4,
 "nbformat_minor": 5
}
