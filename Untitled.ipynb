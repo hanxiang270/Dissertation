{
 "cells": [
  {
   "cell_type": "code",
   "execution_count": 3,
   "id": "a58c18ac-b26b-405d-a561-5242c5c73a68",
   "metadata": {},
   "outputs": [],
   "source": [
    "import geopandas as gpd"
   ]
  },
  {
   "cell_type": "code",
   "execution_count": 4,
   "id": "779535c3-e947-4704-81a8-ff3905150e3c",
   "metadata": {},
   "outputs": [],
   "source": [
    "stations = gpd.read_file('Data/GIS/TfL/tfl_stations.json')\n",
    "stations = stations.to_crs(epsg = 27700)"
   ]
  },
  {
   "cell_type": "code",
   "execution_count": 5,
   "id": "c99b5e24-182d-4f55-afa7-77db26931aeb",
   "metadata": {},
   "outputs": [],
   "source": [
    "import re\n",
    "\n",
    "station_names = {row.id: row['name'] for i, row in stations.iterrows()}\n",
    "\n",
    "for k, v in station_names.items():\n",
    "    if k == 'none':\n",
    "        continue\n",
    "    cleaned_name = re.sub('\\sLU\\s?|\\sLO\\s?|\\sNR\\s?|\\sTf[lL]\\s?|\\sDLR\\s?|\\s\\(.*\\)', '', v)\n",
    "    \n",
    "    if cleaned_name in ['Bank', 'Monument']:\n",
    "        cleaned_name = 'Bank and Monument'\n",
    "    station_names[k] = cleaned_name\n",
    "    \n",
    "stations['name'] = stations['id'].apply(lambda x: station_names[x])\n",
    "cleaned_name_map = stations.set_index('id')['name'].to_dict()"
   ]
  },
  {
   "cell_type": "code",
   "execution_count": 6,
   "id": "7dc2d8d9-0f3d-4a0b-88a6-d452e8585b39",
   "metadata": {},
   "outputs": [
    {
     "name": "stdout",
     "output_type": "stream",
     "text": [
      "['Bakerloo', 'Central', 'Circle', 'Crossrail', 'Crossrail 2', 'DLR', 'District', 'East London', 'Emirates Air Line', 'Hammersmith & City', 'Jubilee', 'London Overground', 'Metropolitan', 'National Rail', 'Northern', 'Piccadilly', 'TfL Rail', 'Tramlink', 'Victoria', 'Waterloo & City']\n"
     ]
    }
   ],
   "source": [
    "import ast\n",
    "\n",
    "# Safely parse string representations into actual Python lists\n",
    "stations[\"parsed_lines\"] = stations[\"lines\"].apply(\n",
    "    lambda x: ast.literal_eval(x) if isinstance(x, str) else x\n",
    ")\n",
    "\n",
    "unique_names = set()\n",
    "\n",
    "for lines in stations[\"parsed_lines\"]:\n",
    "    if isinstance(lines, list):\n",
    "        for item in lines:\n",
    "            if isinstance(item, dict) and \"name\" in item:\n",
    "                unique_names.add(item[\"name\"])\n",
    "\n",
    "print(sorted(unique_names))"
   ]
  },
  {
   "cell_type": "code",
   "execution_count": 7,
   "id": "04d1bade-5beb-4f18-94fd-3a904973330a",
   "metadata": {},
   "outputs": [
    {
     "name": "stdout",
     "output_type": "stream",
     "text": [
      "                         name  \\\n",
      "107       Heathrow Terminal 4   \n",
      "108       Heathrow Terminal 5   \n",
      "109  Heathrow Terminals 2 & 3   \n",
      "363                Abbey Wood   \n",
      "365           Acton Main Line   \n",
      "372                   Burnham   \n",
      "373               Bond Street   \n",
      "380                 Brentwood   \n",
      "386            Chadwell Heath   \n",
      "401              Custom House   \n",
      "405           Ealing Broadway   \n",
      "414                Farringdon   \n",
      "416               Forest Gate   \n",
      "418                Gidea Park   \n",
      "419                 Goodmayes   \n",
      "427                   Hanwell   \n",
      "428        Hayes & Harlington   \n",
      "438               Harold Wood   \n",
      "440                    Ilford   \n",
      "441                      Iver   \n",
      "447                   Langley   \n",
      "449          Liverpool Street   \n",
      "450          Liverpool Street   \n",
      "454                Manor Park   \n",
      "455                Maidenhead   \n",
      "457                  Maryland   \n",
      "465                Paddington   \n",
      "466                Paddington   \n",
      "473                   Reading   \n",
      "474                   Romford   \n",
      "480                 Shenfield   \n",
      "485                    Slough   \n",
      "486                 Stratford   \n",
      "488                  Southall   \n",
      "497               Seven Kings   \n",
      "499                    Taplow   \n",
      "504      Tottenham Court Road   \n",
      "506                   Twyford   \n",
      "513               Whitechapel   \n",
      "516              West Drayton   \n",
      "518               West Ealing   \n",
      "525                  Woolwich   \n",
      "527              Canary Wharf   \n",
      "\n",
      "                                                 lines  \n",
      "107  [ { \"name\": \"Piccadilly\" }, { \"name\": \"Crossra...  \n",
      "108  [ { \"name\": \"Piccadilly\", \"opened\": 2008, \"nig...  \n",
      "109  [ { \"name\": \"Piccadilly\", \"nightopened\": 2016 ...  \n",
      "363  [ { \"name\": \"Crossrail\", \"opened\": 2018 }, { \"...  \n",
      "365        [ { \"name\": \"Crossrail\", \"opened\": 2018 } ]  \n",
      "372  [ { \"name\": \"Crossrail\", \"opened\": 2019 }, { \"...  \n",
      "373        [ { \"name\": \"Crossrail\", \"opened\": 2018 } ]  \n",
      "380  [ { \"name\": \"TfL Rail\", \"opened\": 2015, \"close...  \n",
      "386  [ { \"name\": \"TfL Rail\", \"opened\": 2015, \"close...  \n",
      "401        [ { \"name\": \"Crossrail\", \"opened\": 2018 } ]  \n",
      "405  [ { \"name\": \"Crossrail\", \"opened\": 2018 }, { \"...  \n",
      "414  [ { \"name\": \"Crossrail\", \"opened\": 2018 }, { \"...  \n",
      "416  [ { \"name\": \"TfL Rail\", \"opened\": 2015, \"close...  \n",
      "418  [ { \"name\": \"TfL Rail\", \"opened\": 2015, \"close...  \n",
      "419  [ { \"name\": \"TfL Rail\", \"opened\": 2015, \"close...  \n",
      "427  [ { \"name\": \"Crossrail\", \"opened\": 2018 }, { \"...  \n",
      "428  [ { \"name\": \"Crossrail\", \"opened\": 2018 }, { \"...  \n",
      "438  [ { \"name\": \"TfL Rail\", \"opened\": 2015, \"close...  \n",
      "440  [ { \"name\": \"TfL Rail\", \"opened\": 2015, \"close...  \n",
      "441  [ { \"name\": \"Crossrail\", \"opened\": 2019 }, { \"...  \n",
      "447  [ { \"name\": \"Crossrail\", \"opened\": 2019 }, { \"...  \n",
      "449  [ { \"name\": \"London Overground\", \"opened\": 201...  \n",
      "450        [ { \"name\": \"Crossrail\", \"opened\": 2018 } ]  \n",
      "454  [ { \"name\": \"TfL Rail\", \"opened\": 2015, \"close...  \n",
      "455  [ { \"name\": \"Crossrail\", \"opened\": 2019 }, { \"...  \n",
      "457  [ { \"name\": \"TfL Rail\", \"opened\": 2015, \"close...  \n",
      "465        [ { \"name\": \"Crossrail\", \"opened\": 2018 } ]  \n",
      "466  [ { \"name\": \"Crossrail\", \"opened\": 2018, \"clos...  \n",
      "473  [ { \"name\": \"Crossrail\", \"opened\": 2019 }, { \"...  \n",
      "474  [ { \"name\": \"London Overground\", \"opened\": 201...  \n",
      "480  [ { \"name\": \"TfL Rail\", \"opened\": 2015, \"close...  \n",
      "485  [ { \"name\": \"Crossrail\", \"opened\": 2019 }, { \"...  \n",
      "486  [ { \"name\": \"London Overground\", \"opened\": 200...  \n",
      "488  [ { \"name\": \"Crossrail\", \"opened\": 2018 }, { \"...  \n",
      "497  [ { \"name\": \"TfL Rail\", \"opened\": 2015, \"close...  \n",
      "499  [ { \"name\": \"Crossrail\", \"opened\": 2019 }, { \"...  \n",
      "504  [ { \"name\": \"Crossrail\", \"opened\": 2018 }, { \"...  \n",
      "506  [ { \"name\": \"Crossrail\", \"opened\": 2019 }, { \"...  \n",
      "513  [ { \"name\": \"London Overground\", \"opened\": 201...  \n",
      "516  [ { \"name\": \"Crossrail\", \"opened\": 2019 }, { \"...  \n",
      "518  [ { \"name\": \"Crossrail\", \"opened\": 2018 }, { \"...  \n",
      "525        [ { \"name\": \"Crossrail\", \"opened\": 2018 } ]  \n",
      "527        [ { \"name\": \"Crossrail\", \"opened\": 2018 } ]  \n"
     ]
    }
   ],
   "source": [
    "# Define filter function\n",
    "def has_crossrail(lines):\n",
    "    if isinstance(lines, list):\n",
    "        return any(d.get(\"name\") == \"Crossrail\" for d in lines)\n",
    "    return False\n",
    "\n",
    "crossrail_stations = stations[stations['parsed_lines'].apply(has_crossrail)]\n",
    "print(crossrail_stations[['name', 'lines']])"
   ]
  },
  {
   "cell_type": "code",
   "execution_count": 8,
   "id": "880cef4d-5aed-4fa6-8219-8c31bf814a5e",
   "metadata": {},
   "outputs": [
    {
     "name": "stdout",
     "output_type": "stream",
     "text": [
      "              id              name nlc_id  \\\n",
      "138  940GZZLULVT  Liverpool Street   0634   \n",
      "449    910GLIVST  Liverpool Street   6965   \n",
      "450  910GLIVSTLL  Liverpool Street   None   \n",
      "\n",
      "                                                 lines  \\\n",
      "138  [ { \"name\": \"Central\", \"nightopened\": 2016 }, ...   \n",
      "449  [ { \"name\": \"London Overground\", \"opened\": 201...   \n",
      "450        [ { \"name\": \"Crossrail\", \"opened\": 2018 } ]   \n",
      "\n",
      "                                           cartography altmodeid alt_id  \\\n",
      "138                      { \"labelX\": 1, \"labelY\": 45 }      None    157   \n",
      "449  { \"labelX\": 1, \"labelY\": 45, \"display_name\": \"...      None    LST   \n",
      "450  { \"labelX\": -1, \"labelY\": -45, \"display_name\":...      None   None   \n",
      "\n",
      "    altmodeid2 zone                       geometry  \\\n",
      "138       None    1  POINT (533092.226 181560.876)   \n",
      "449       None    1   POINT (533264.24 181654.408)   \n",
      "450       None    1   POINT (533021.42 181648.039)   \n",
      "\n",
      "                                          parsed_lines  \n",
      "138  [{'name': 'Central', 'nightopened': 2016}, {'n...  \n",
      "449  [{'name': 'London Overground', 'opened': 2015}...  \n",
      "450            [{'name': 'Crossrail', 'opened': 2018}]  \n",
      "\n",
      "Same geometry: False\n"
     ]
    }
   ],
   "source": [
    "# Figure out whether the two \"Liverpool Stations\" are duplicate entries\n",
    "liverpool_stations = stations[stations[\"name\"] == \"Liverpool Street\"]\n",
    "print(liverpool_stations)\n",
    "\n",
    "# Check if geometries are identical\n",
    "geometries_equal = liverpool_stations.geometry.iloc[0].equals(liverpool_stations.geometry.iloc[1])\n",
    "print(\"\\nSame geometry:\", geometries_equal)"
   ]
  },
  {
   "cell_type": "code",
   "execution_count": 9,
   "id": "d5289db7-f7c6-45d7-86de-d36659b810ca",
   "metadata": {},
   "outputs": [
    {
     "name": "stdout",
     "output_type": "stream",
     "text": [
      "                         name  \\\n",
      "107       Heathrow Terminal 4   \n",
      "108       Heathrow Terminal 5   \n",
      "109  Heathrow Terminals 2 & 3   \n",
      "363                Abbey Wood   \n",
      "365           Acton Main Line   \n",
      "372                   Burnham   \n",
      "373               Bond Street   \n",
      "380                 Brentwood   \n",
      "386            Chadwell Heath   \n",
      "401              Custom House   \n",
      "405           Ealing Broadway   \n",
      "414                Farringdon   \n",
      "416               Forest Gate   \n",
      "418                Gidea Park   \n",
      "419                 Goodmayes   \n",
      "427                   Hanwell   \n",
      "428        Hayes & Harlington   \n",
      "438               Harold Wood   \n",
      "440                    Ilford   \n",
      "441                      Iver   \n",
      "447                   Langley   \n",
      "450          Liverpool Street   \n",
      "454                Manor Park   \n",
      "455                Maidenhead   \n",
      "457                  Maryland   \n",
      "465                Paddington   \n",
      "466                Paddington   \n",
      "473                   Reading   \n",
      "474                   Romford   \n",
      "480                 Shenfield   \n",
      "485                    Slough   \n",
      "486                 Stratford   \n",
      "488                  Southall   \n",
      "497               Seven Kings   \n",
      "499                    Taplow   \n",
      "504      Tottenham Court Road   \n",
      "506                   Twyford   \n",
      "513               Whitechapel   \n",
      "516              West Drayton   \n",
      "518               West Ealing   \n",
      "525                  Woolwich   \n",
      "527              Canary Wharf   \n",
      "\n",
      "                                                 lines  \n",
      "107  [ { \"name\": \"Piccadilly\" }, { \"name\": \"Crossra...  \n",
      "108  [ { \"name\": \"Piccadilly\", \"opened\": 2008, \"nig...  \n",
      "109  [ { \"name\": \"Piccadilly\", \"nightopened\": 2016 ...  \n",
      "363  [ { \"name\": \"Crossrail\", \"opened\": 2018 }, { \"...  \n",
      "365        [ { \"name\": \"Crossrail\", \"opened\": 2018 } ]  \n",
      "372  [ { \"name\": \"Crossrail\", \"opened\": 2019 }, { \"...  \n",
      "373        [ { \"name\": \"Crossrail\", \"opened\": 2018 } ]  \n",
      "380  [ { \"name\": \"TfL Rail\", \"opened\": 2015, \"close...  \n",
      "386  [ { \"name\": \"TfL Rail\", \"opened\": 2015, \"close...  \n",
      "401        [ { \"name\": \"Crossrail\", \"opened\": 2018 } ]  \n",
      "405  [ { \"name\": \"Crossrail\", \"opened\": 2018 }, { \"...  \n",
      "414  [ { \"name\": \"Crossrail\", \"opened\": 2018 }, { \"...  \n",
      "416  [ { \"name\": \"TfL Rail\", \"opened\": 2015, \"close...  \n",
      "418  [ { \"name\": \"TfL Rail\", \"opened\": 2015, \"close...  \n",
      "419  [ { \"name\": \"TfL Rail\", \"opened\": 2015, \"close...  \n",
      "427  [ { \"name\": \"Crossrail\", \"opened\": 2018 }, { \"...  \n",
      "428  [ { \"name\": \"Crossrail\", \"opened\": 2018 }, { \"...  \n",
      "438  [ { \"name\": \"TfL Rail\", \"opened\": 2015, \"close...  \n",
      "440  [ { \"name\": \"TfL Rail\", \"opened\": 2015, \"close...  \n",
      "441  [ { \"name\": \"Crossrail\", \"opened\": 2019 }, { \"...  \n",
      "447  [ { \"name\": \"Crossrail\", \"opened\": 2019 }, { \"...  \n",
      "450        [ { \"name\": \"Crossrail\", \"opened\": 2018 } ]  \n",
      "454  [ { \"name\": \"TfL Rail\", \"opened\": 2015, \"close...  \n",
      "455  [ { \"name\": \"Crossrail\", \"opened\": 2019 }, { \"...  \n",
      "457  [ { \"name\": \"TfL Rail\", \"opened\": 2015, \"close...  \n",
      "465        [ { \"name\": \"Crossrail\", \"opened\": 2018 } ]  \n",
      "466  [ { \"name\": \"Crossrail\", \"opened\": 2018, \"clos...  \n",
      "473  [ { \"name\": \"Crossrail\", \"opened\": 2019 }, { \"...  \n",
      "474  [ { \"name\": \"London Overground\", \"opened\": 201...  \n",
      "480  [ { \"name\": \"TfL Rail\", \"opened\": 2015, \"close...  \n",
      "485  [ { \"name\": \"Crossrail\", \"opened\": 2019 }, { \"...  \n",
      "486  [ { \"name\": \"London Overground\", \"opened\": 200...  \n",
      "488  [ { \"name\": \"Crossrail\", \"opened\": 2018 }, { \"...  \n",
      "497  [ { \"name\": \"TfL Rail\", \"opened\": 2015, \"close...  \n",
      "499  [ { \"name\": \"Crossrail\", \"opened\": 2019 }, { \"...  \n",
      "504  [ { \"name\": \"Crossrail\", \"opened\": 2018 }, { \"...  \n",
      "506  [ { \"name\": \"Crossrail\", \"opened\": 2019 }, { \"...  \n",
      "513  [ { \"name\": \"London Overground\", \"opened\": 201...  \n",
      "516  [ { \"name\": \"Crossrail\", \"opened\": 2019 }, { \"...  \n",
      "518  [ { \"name\": \"Crossrail\", \"opened\": 2018 }, { \"...  \n",
      "525        [ { \"name\": \"Crossrail\", \"opened\": 2018 } ]  \n",
      "527        [ { \"name\": \"Crossrail\", \"opened\": 2018 } ]  \n"
     ]
    }
   ],
   "source": [
    "crossrail_stations = crossrail_stations.drop(index=449)\n",
    "print(crossrail_stations[['name', 'lines']])"
   ]
  },
  {
   "cell_type": "code",
   "execution_count": 10,
   "id": "02a7fa1c-8859-4ffa-9096-28954cc3100d",
   "metadata": {},
   "outputs": [
    {
     "name": "stdout",
     "output_type": "stream",
     "text": [
      "              id        name  nlc_id  \\\n",
      "171  940GZZLUPAC  Paddington    0670   \n",
      "172  940GZZLUPAH  Paddington    3087   \n",
      "465   910GPADTLL  Paddington    None   \n",
      "466   910GPADTON  Paddington  308700   \n",
      "\n",
      "                                                 lines  \\\n",
      "171  [ { \"name\": \"Bakerloo\" }, { \"name\": \"District\"...   \n",
      "172  [ { \"name\": \"Hammersmith & City\" }, { \"name\": ...   \n",
      "465        [ { \"name\": \"Crossrail\", \"opened\": 2018 } ]   \n",
      "466  [ { \"name\": \"Crossrail\", \"opened\": 2018, \"clos...   \n",
      "\n",
      "                                           cartography altmodeid alt_id  \\\n",
      "171     { \"labelX\": 30, \"display_name\": \"Paddington\" }      None   None   \n",
      "172  { \"labelX\": 1, \"labelY\": -30, \"display_name\": ...      None    193   \n",
      "465  { \"labelX\": -25, \"labelY\": 20, \"display_name\":...      None   None   \n",
      "466  { \"labelX\": -25, \"labelY\": 20, \"display_name\":...      None    PAD   \n",
      "\n",
      "    altmodeid2 zone                       geometry  \\\n",
      "171       None    1  POINT (526763.197 181249.357)   \n",
      "172       None    1  POINT (526605.628 181417.369)   \n",
      "465       None    1   POINT (526539.85 181271.079)   \n",
      "466       None    1   POINT (526537.634 181360.04)   \n",
      "\n",
      "                                          parsed_lines  \n",
      "171  [{'name': 'Bakerloo'}, {'name': 'District'}, {...  \n",
      "172  [{'name': 'Hammersmith & City'}, {'name': 'Cir...  \n",
      "465            [{'name': 'Crossrail', 'opened': 2018}]  \n",
      "466  [{'name': 'Crossrail', 'opened': 2018, 'closed...  \n",
      "\n",
      "Same geometry: False\n"
     ]
    }
   ],
   "source": [
    "# Figure out whether the two \"Paddington Stations\" are duplicate entries\n",
    "paddington_stations = stations[stations[\"name\"] == \"Paddington\"]\n",
    "print(paddington_stations)\n",
    "\n",
    "# Check if geometries are identical\n",
    "geometries_equal = paddington_stations.geometry.iloc[0].equals(paddington_stations.geometry.iloc[1])\n",
    "print(\"\\nSame geometry:\", geometries_equal)"
   ]
  },
  {
   "cell_type": "code",
   "execution_count": 11,
   "id": "91e8dbd7-afbc-4912-9312-983a78cd3886",
   "metadata": {},
   "outputs": [
    {
     "name": "stdout",
     "output_type": "stream",
     "text": [
      "                         name  \\\n",
      "107       Heathrow Terminal 4   \n",
      "108       Heathrow Terminal 5   \n",
      "109  Heathrow Terminals 2 & 3   \n",
      "363                Abbey Wood   \n",
      "365           Acton Main Line   \n",
      "372                   Burnham   \n",
      "373               Bond Street   \n",
      "380                 Brentwood   \n",
      "386            Chadwell Heath   \n",
      "401              Custom House   \n",
      "405           Ealing Broadway   \n",
      "414                Farringdon   \n",
      "416               Forest Gate   \n",
      "418                Gidea Park   \n",
      "419                 Goodmayes   \n",
      "427                   Hanwell   \n",
      "428        Hayes & Harlington   \n",
      "438               Harold Wood   \n",
      "440                    Ilford   \n",
      "441                      Iver   \n",
      "447                   Langley   \n",
      "450          Liverpool Street   \n",
      "454                Manor Park   \n",
      "455                Maidenhead   \n",
      "457                  Maryland   \n",
      "466                Paddington   \n",
      "473                   Reading   \n",
      "474                   Romford   \n",
      "480                 Shenfield   \n",
      "485                    Slough   \n",
      "486                 Stratford   \n",
      "488                  Southall   \n",
      "497               Seven Kings   \n",
      "499                    Taplow   \n",
      "504      Tottenham Court Road   \n",
      "506                   Twyford   \n",
      "513               Whitechapel   \n",
      "516              West Drayton   \n",
      "518               West Ealing   \n",
      "525                  Woolwich   \n",
      "527              Canary Wharf   \n",
      "\n",
      "                                                 lines  \n",
      "107  [ { \"name\": \"Piccadilly\" }, { \"name\": \"Crossra...  \n",
      "108  [ { \"name\": \"Piccadilly\", \"opened\": 2008, \"nig...  \n",
      "109  [ { \"name\": \"Piccadilly\", \"nightopened\": 2016 ...  \n",
      "363  [ { \"name\": \"Crossrail\", \"opened\": 2018 }, { \"...  \n",
      "365        [ { \"name\": \"Crossrail\", \"opened\": 2018 } ]  \n",
      "372  [ { \"name\": \"Crossrail\", \"opened\": 2019 }, { \"...  \n",
      "373        [ { \"name\": \"Crossrail\", \"opened\": 2018 } ]  \n",
      "380  [ { \"name\": \"TfL Rail\", \"opened\": 2015, \"close...  \n",
      "386  [ { \"name\": \"TfL Rail\", \"opened\": 2015, \"close...  \n",
      "401        [ { \"name\": \"Crossrail\", \"opened\": 2018 } ]  \n",
      "405  [ { \"name\": \"Crossrail\", \"opened\": 2018 }, { \"...  \n",
      "414  [ { \"name\": \"Crossrail\", \"opened\": 2018 }, { \"...  \n",
      "416  [ { \"name\": \"TfL Rail\", \"opened\": 2015, \"close...  \n",
      "418  [ { \"name\": \"TfL Rail\", \"opened\": 2015, \"close...  \n",
      "419  [ { \"name\": \"TfL Rail\", \"opened\": 2015, \"close...  \n",
      "427  [ { \"name\": \"Crossrail\", \"opened\": 2018 }, { \"...  \n",
      "428  [ { \"name\": \"Crossrail\", \"opened\": 2018 }, { \"...  \n",
      "438  [ { \"name\": \"TfL Rail\", \"opened\": 2015, \"close...  \n",
      "440  [ { \"name\": \"TfL Rail\", \"opened\": 2015, \"close...  \n",
      "441  [ { \"name\": \"Crossrail\", \"opened\": 2019 }, { \"...  \n",
      "447  [ { \"name\": \"Crossrail\", \"opened\": 2019 }, { \"...  \n",
      "450        [ { \"name\": \"Crossrail\", \"opened\": 2018 } ]  \n",
      "454  [ { \"name\": \"TfL Rail\", \"opened\": 2015, \"close...  \n",
      "455  [ { \"name\": \"Crossrail\", \"opened\": 2019 }, { \"...  \n",
      "457  [ { \"name\": \"TfL Rail\", \"opened\": 2015, \"close...  \n",
      "466  [ { \"name\": \"Crossrail\", \"opened\": 2018, \"clos...  \n",
      "473  [ { \"name\": \"Crossrail\", \"opened\": 2019 }, { \"...  \n",
      "474  [ { \"name\": \"London Overground\", \"opened\": 201...  \n",
      "480  [ { \"name\": \"TfL Rail\", \"opened\": 2015, \"close...  \n",
      "485  [ { \"name\": \"Crossrail\", \"opened\": 2019 }, { \"...  \n",
      "486  [ { \"name\": \"London Overground\", \"opened\": 200...  \n",
      "488  [ { \"name\": \"Crossrail\", \"opened\": 2018 }, { \"...  \n",
      "497  [ { \"name\": \"TfL Rail\", \"opened\": 2015, \"close...  \n",
      "499  [ { \"name\": \"Crossrail\", \"opened\": 2019 }, { \"...  \n",
      "504  [ { \"name\": \"Crossrail\", \"opened\": 2018 }, { \"...  \n",
      "506  [ { \"name\": \"Crossrail\", \"opened\": 2019 }, { \"...  \n",
      "513  [ { \"name\": \"London Overground\", \"opened\": 201...  \n",
      "516  [ { \"name\": \"Crossrail\", \"opened\": 2019 }, { \"...  \n",
      "518  [ { \"name\": \"Crossrail\", \"opened\": 2018 }, { \"...  \n",
      "525        [ { \"name\": \"Crossrail\", \"opened\": 2018 } ]  \n",
      "527        [ { \"name\": \"Crossrail\", \"opened\": 2018 } ]  \n"
     ]
    }
   ],
   "source": [
    "crossrail_stations = crossrail_stations.drop(index=465)\n",
    "print(crossrail_stations[['name', 'lines']])"
   ]
  },
  {
   "cell_type": "code",
   "execution_count": 13,
   "id": "3239e7a0-7e7e-4ffc-95b9-d3deafc653f1",
   "metadata": {},
   "outputs": [
    {
     "name": "stdout",
     "output_type": "stream",
     "text": [
      "Requirement already satisfied: shapely in /opt/conda/lib/python3.11/site-packages (2.1.1)\n",
      "Requirement already satisfied: numpy>=1.21 in /opt/conda/lib/python3.11/site-packages (from shapely) (1.26.4)\n"
     ]
    }
   ],
   "source": [
    "!pip install --upgrade shapely"
   ]
  },
  {
   "cell_type": "code",
   "execution_count": 14,
   "id": "5afbc4cf-e8cb-4a2b-966e-a8d65223a81c",
   "metadata": {},
   "outputs": [
    {
     "name": "stdout",
     "output_type": "stream",
     "text": [
      "New CRS: EPSG:27700\n"
     ]
    }
   ],
   "source": [
    "import geopandas as gpd\n",
    "\n",
    "lsoa_path = 'Data/GIS/LSOA/LSOA_2011_London_gen_MHW.shp'\n",
    "lsoa = gpd.read_file(lsoa_path)\n",
    "lsoa = lsoa.to_crs(epsg=27700)\n",
    "\n",
    "print(\"New CRS:\", lsoa.crs)"
   ]
  },
  {
   "cell_type": "code",
   "execution_count": 15,
   "id": "bb28cc63-5c80-457d-a210-d4ec917cdcdc",
   "metadata": {},
   "outputs": [],
   "source": [
    "import matplotlib.pyplot as plt"
   ]
  },
  {
   "cell_type": "code",
   "execution_count": 18,
   "id": "61c465bc-f688-4a7f-a1a2-135b9e3e270f",
   "metadata": {},
   "outputs": [
    {
     "name": "stdout",
     "output_type": "stream",
     "text": [
      "Original CRS: PROJCS[\"unnamed\",GEOGCS[\"Airy 1830\",DATUM[\"unknown\",SPHEROID[\"airy\",6377563.396,299.324975315035],EXTENSION[\"PROJ4_GRIDS\",\"Q:\\Temp\\yw\\ostn02-ntv2-data\\OSTN02_NTv2.gsb\"]],PRIMEM[\"Greenwich\",0],UNIT[\"degree\",0.0174532925199433]],PROJECTION[\"Transverse_Mercator\"],PARAMETER[\"latitude_of_origin\",49],PARAMETER[\"central_meridian\",-2],PARAMETER[\"scale_factor\",0.999601],PARAMETER[\"false_easting\",400000],PARAMETER[\"false_northing\",-100000],UNIT[\"Meter\",1],AXIS[\"Easting\",EAST],AXIS[\"Northing\",NORTH]]\n",
      "New CRS: EPSG:27700\n"
     ]
    }
   ],
   "source": [
    "caz = gpd.read_file('Data/GIS/CAZ/Central_Activities_Zone.gpkg')\n",
    "print(\"Original CRS:\", caz.crs)\n",
    "\n",
    "caz = caz.to_crs(epsg=27700)\n",
    "print(\"New CRS:\", caz.crs)"
   ]
  },
  {
   "cell_type": "code",
   "execution_count": 19,
   "id": "2689f9d1-80a3-4467-b461-8556eca96c9f",
   "metadata": {},
   "outputs": [
    {
     "data": {
      "text/plain": [
       "<Axes: >"
      ]
     },
     "execution_count": 19,
     "metadata": {},
     "output_type": "execute_result"
    },
    {
     "data": {
      "image/png": "[encoded data removed]",
      "text/plain": [
       "<Figure size 640x480 with 1 Axes>"
      ]
     },
     "metadata": {},
     "output_type": "display_data"
    }
   ],
   "source": [
    "caz.plot()"
   ]
  },
  {
   "cell_type": "code",
   "execution_count": 20,
   "id": "3f4511a6-3dab-438d-989c-4f905f8e3d06",
   "metadata": {},
   "outputs": [
    {
     "name": "stderr",
     "output_type": "stream",
     "text": [
      "/tmp/ipykernel_4207/3970372433.py:1: DeprecationWarning: The 'unary_union' attribute is deprecated, use the 'union_all()' method instead.\n",
      "  lsoa_union = lsoa.unary_union\n"
     ]
    }
   ],
   "source": [
    "lsoa_union = lsoa.unary_union\n",
    "crossrail_stations = crossrail_stations[crossrail_stations.geometry.within(lsoa_union)].copy()"
   ]
  },
  {
   "cell_type": "code",
   "execution_count": 22,
   "id": "94038165-c377-44a1-93e7-ff341d0a011e",
   "metadata": {},
   "outputs": [
    {
     "name": "stderr",
     "output_type": "stream",
     "text": [
      "/tmp/ipykernel_4207/2375514863.py:1: DeprecationWarning: The 'unary_union' attribute is deprecated, use the 'union_all()' method instead.\n",
      "  caz_union = caz.unary_union\n"
     ]
    }
   ],
   "source": [
    "caz_union = caz.unary_union\n",
    "crossrail_stations[\"caz\"] = crossrail_stations.geometry.intersects(caz_union).astype(int)"
   ]
  },
  {
   "cell_type": "code",
   "execution_count": 24,
   "id": "7e013c2d-9a1a-49bd-b416-3fee438a5ba2",
   "metadata": {},
   "outputs": [
    {
     "name": "stderr",
     "output_type": "stream",
     "text": [
      "/tmp/ipykernel_4207/1019477075.py:9: DeprecationWarning: The 'unary_union' attribute is deprecated, use the 'union_all()' method instead.\n",
      "  buffered_ncaz_ncw = crossrail_stations_ncaz_ncw.geometry.unary_union.buffer(3200)\n"
     ]
    }
   ],
   "source": [
    "import osmnx as ox\n",
    "from shapely.ops import unary_union\n",
    "from osmnx import graph_from_polygon\n",
    "\n",
    "# Step 1: Prepare buffered polygon in projected CRS\n",
    "crossrail_stations_ncaz_ncw = crossrail_stations[\n",
    "    (crossrail_stations['caz'] == 0) & (crossrail_stations['name'] != 'Canary Wharf')\n",
    "].to_crs('EPSG:27700')\n",
    "buffered_ncaz_ncw = crossrail_stations_ncaz_ncw.geometry.unary_union.buffer(3200)\n",
    "\n",
    "# Step 2: Wrap in GeoDataFrame with CRS, then reproject to EPSG:4326\n",
    "buffered_gdf_ncw = gpd.GeoDataFrame(geometry=[buffered_ncaz_ncw], crs='EPSG:27700')\n",
    "buffered_wgs84_ncw = buffered_gdf_ncw.to_crs('EPSG:4326').geometry.iloc[0]\n",
    "\n",
    "# Step 3: Fetch the walkable network within the polygon (OSM requires EPSG:4326)\n",
    "london_walk_ncaz_ncw = ox.graph_from_polygon(buffered_wgs84_ncw, network_type='walk')\n",
    "\n",
    "# Step 4: Reproject the graph back to EPSG:27700 for accurate analysis\n",
    "london_walk_ncaz_ncw = ox.project_graph(london_walk_ncaz_ncw, to_crs='EPSG:27700')"
   ]
  },
  {
   "cell_type": "code",
   "execution_count": 26,
   "id": "8d282ab1-e783-4a74-bc53-69b3662dd8ef",
   "metadata": {},
   "outputs": [],
   "source": [
    "ox.save_graphml(london_walk_ncaz_ncw, filepath=\"london_walk_ncaz_ncw.graphml\")"
   ]
  },
  {
   "cell_type": "code",
   "execution_count": null,
   "id": "a9aae57c-082e-46b9-832f-d18822b8f2d6",
   "metadata": {},
   "outputs": [],
   "source": [
    "crossrail_ncaz = crossrail_stations[crossrail_stations['caz'] == 0].copy()\n",
    "crossrail_ncaz = crossrail_ncaz.to_crs(edges.crs)\n",
    "\n",
    "# Get nearest nodes for stations\n",
    "crossrail_ncaz = crossrail_ncaz.to_crs('EPSG:27700')\n",
    "crossrail_ncaz['nearest_node'] = crossrail_ncaz.geometry.apply(\n",
    "    lambda x: ox.nearest_nodes(london_walk_ncaz, x.x, x.y)\n",
    ")\n",
    "station_nodes = crossrail_ncaz['nearest_node'].unique()"
   ]
  }
 ],
 "metadata": {
  "kernelspec": {
   "display_name": "Python (base)",
   "language": "python",
   "name": "base"
  },
  "language_info": {
   "codemirror_mode": {
    "name": "ipython",
    "version": 3
   },
   "file_extension": ".py",
   "mimetype": "text/x-python",
   "name": "python",
   "nbconvert_exporter": "python",
   "pygments_lexer": "ipython3",
   "version": "3.11.9"
  }
 },
 "nbformat": 4,
 "nbformat_minor": 5
}
