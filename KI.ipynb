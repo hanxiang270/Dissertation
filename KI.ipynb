{
 "cells": [
  {
   "cell_type": "markdown",
   "id": "ada8345d-acc0-4d61-97f1-c7742222976e",
   "metadata": {},
   "source": [
    "# **1. Core Data Loading**"
   ]
  },
  {
   "cell_type": "markdown",
   "id": "fa347106-dd84-4903-8736-bc6e13eac67d",
   "metadata": {},
   "source": [
    "## **Preparation**"
   ]
  },
  {
   "cell_type": "code",
   "execution_count": 1,
   "id": "93f81812-3e69-4629-9c05-5bb18d4820a3",
   "metadata": {},
   "outputs": [
    {
     "name": "stdout",
     "output_type": "stream",
     "text": [
      "Requirement already satisfied: shapely in /opt/conda/lib/python3.11/site-packages (2.1.1)\n",
      "Requirement already satisfied: numpy>=1.21 in /opt/conda/lib/python3.11/site-packages (from shapely) (1.26.4)\n"
     ]
    }
   ],
   "source": [
    "!pip install --upgrade shapely"
   ]
  },
  {
   "cell_type": "code",
   "execution_count": 24,
   "id": "927bf20f-4946-4733-b4e3-a6bc4466d1a3",
   "metadata": {},
   "outputs": [
    {
     "data": {
      "text/plain": [
       "False"
      ]
     },
     "execution_count": 24,
     "metadata": {},
     "output_type": "execute_result"
    }
   ],
   "source": [
    "import os\n",
    "\n",
    "os.path.exists(\"Data/GIS/LSOA/LSOA_2011_London_gen_MHW.shp\")"
   ]
  },
  {
   "cell_type": "code",
   "execution_count": null,
   "id": "829fb26b-f5b5-4b61-8770-12f0a9840f95",
   "metadata": {},
   "outputs": [],
   "source": []
  }
 ],
 "metadata": {
  "kernelspec": {
   "display_name": "Python (base)",
   "language": "python",
   "name": "base"
  },
  "language_info": {
   "codemirror_mode": {
    "name": "ipython",
    "version": 3
   },
   "file_extension": ".py",
   "mimetype": "text/x-python",
   "name": "python",
   "nbconvert_exporter": "python",
   "pygments_lexer": "ipython3",
   "version": "3.11.9"
  }
 },
 "nbformat": 4,
 "nbformat_minor": 5
}
