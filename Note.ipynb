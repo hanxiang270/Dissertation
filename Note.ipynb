{
 "cells": [
  {
   "cell_type": "markdown",
   "id": "a6ac6296-59a6-4b9c-80bb-74439bf2e950",
   "metadata": {},
   "source": [
    "# **Data**"
   ]
  },
  {
   "cell_type": "markdown",
   "id": "b2f92ff9-ac0c-4b96-b726-6d47a477f748",
   "metadata": {},
   "source": [
    "## **1. Data Selection**"
   ]
  },
  {
   "cell_type": "markdown",
   "id": "7ac4f059-e8f4-43d7-8c04-98370b380dd4",
   "metadata": {},
   "source": [
    "**Issue 1: Post-2015 PAYE Inclusion**\n",
    "\n",
    "- **2009-2014 (Employment)**: Business Register and Employment Survey (i.e., VAT-registered staff + working owners) -> *Exluded* small businesses\n",
    "\n",
    "- **2015-2023 (Employment)**: Business Register and Employment Survey (i.e., VAT or PAYE-registered staff + working owners) -> *Included* small businesses\n",
    "\n",
    "- **Critique**: The 2015-2023 data includes many more small firms via PAYE-only inclusion while being completely missed by the 2009-2014 data -> Even using year-fixed effects, they cannot absorb a change that impacts the treatment and control groups differently (i.e., they modelling average shocks, not spatially heterogenous ones) -> Example: Treatment zones have more small KI businesses (e.g., PAYE-only firms) while control zones having fewer of those -> Treatment/Control differently correlated with employment status -> OVB & Endogeneity\n",
    "\n",
    "- **Solution**: Persistent upward shift froom 2015 forward -> Adding Post2015 × Treatment interaction term\n",
    "\n",
    "- **Important Site**: https://www.nomisweb.co.uk/articles/1062.aspx\n",
    "\n",
    "**Issue 2: SIC 2003 & 2007 Conversion**\n",
    "\n",
    "- **2003-2008**: Industry classification based on SIC 2003\n",
    "  \n",
    "- **2009-2023**: Industry classification based on SIC 2007\n",
    "\n",
    "- **Solution**: Look-up based on the Correlation between UK SIC 2003 and UK SIC 2007 from ONS"
   ]
  },
  {
   "cell_type": "code",
   "execution_count": null,
   "id": "1ea6245e-51d3-4602-b7ac-4ad1836b737d",
   "metadata": {},
   "outputs": [],
   "source": []
  },
  {
   "cell_type": "code",
   "execution_count": null,
   "id": "1895d748-024c-485a-b80a-39ade24f6735",
   "metadata": {},
   "outputs": [],
   "source": []
  }
 ],
 "metadata": {
  "kernelspec": {
   "display_name": "Python (base)",
   "language": "python",
   "name": "base"
  },
  "language_info": {
   "codemirror_mode": {
    "name": "ipython",
    "version": 3
   },
   "file_extension": ".py",
   "mimetype": "text/x-python",
   "name": "python",
   "nbconvert_exporter": "python",
   "pygments_lexer": "ipython3",
   "version": "3.11.9"
  }
 },
 "nbformat": 4,
 "nbformat_minor": 5
}
